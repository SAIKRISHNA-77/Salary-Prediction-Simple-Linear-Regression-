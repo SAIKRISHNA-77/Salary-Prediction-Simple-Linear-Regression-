{
 "cells": [
  {
   "cell_type": "markdown",
   "metadata": {
    "papermill": {
     "duration": 0.015062,
     "end_time": "2020-12-20T13:44:04.956561",
     "exception": false,
     "start_time": "2020-12-20T13:44:04.941499",
     "status": "completed"
    },
    "tags": []
   },
   "source": [
    "### Salary Prediction:\n",
    "We will try to predict salary based on their years of exeprience. We use Linear Regression algorithm to model this probelm."
   ]
  },
  {
   "cell_type": "code",
   "execution_count": 1,
   "metadata": {
    "_cell_guid": "b1076dfc-b9ad-4769-8c92-a6c4dae69d19",
    "_uuid": "8f2839f25d086af736a60e9eeb907d3b93b6e0e5",
    "execution": {
     "iopub.execute_input": "2020-12-20T13:44:04.984785Z",
     "iopub.status.busy": "2020-12-20T13:44:04.984037Z",
     "iopub.status.idle": "2020-12-20T13:44:06.176101Z",
     "shell.execute_reply": "2020-12-20T13:44:06.176723Z"
    },
    "papermill": {
     "duration": 1.207784,
     "end_time": "2020-12-20T13:44:06.176899",
     "exception": false,
     "start_time": "2020-12-20T13:44:04.969115",
     "status": "completed"
    },
    "tags": []
   },
   "outputs": [],
   "source": [
    "#Importing the libraries\n",
    "import pandas as pd\n",
    "import numpy as np\n",
    "import matplotlib.pyplot as plt\n",
    "from sklearn.linear_model import LinearRegression\n",
    "from sklearn.model_selection import train_test_split\n",
    "from sklearn.metrics import mean_squared_error"
   ]
  },
  {
   "cell_type": "code",
   "execution_count": 2,
   "metadata": {
    "_cell_guid": "79c7e3d0-c299-4dcb-8224-4455121ee9b0",
    "_uuid": "d629ff2d2480ee46fbb7e2d37f6b5fab8052498a",
    "execution": {
     "iopub.execute_input": "2020-12-20T13:44:06.205639Z",
     "iopub.status.busy": "2020-12-20T13:44:06.204966Z",
     "iopub.status.idle": "2020-12-20T13:44:06.228308Z",
     "shell.execute_reply": "2020-12-20T13:44:06.228924Z"
    },
    "papermill": {
     "duration": 0.039375,
     "end_time": "2020-12-20T13:44:06.229098",
     "exception": false,
     "start_time": "2020-12-20T13:44:06.189723",
     "status": "completed"
    },
    "tags": []
   },
   "outputs": [
    {
     "name": "stdout",
     "output_type": "stream",
     "text": [
      "Data shape (30, 2)\n"
     ]
    }
   ],
   "source": [
    "#Importing the dataset\n",
    "dataset=pd.read_csv(\"../input/salary-data-simple-linear-regression/Salary_Data.csv\")\n",
    "print (\"Data shape {}\".format(dataset.shape))"
   ]
  },
  {
   "cell_type": "code",
   "execution_count": 3,
   "metadata": {
    "execution": {
     "iopub.execute_input": "2020-12-20T13:44:06.273163Z",
     "iopub.status.busy": "2020-12-20T13:44:06.272406Z",
     "iopub.status.idle": "2020-12-20T13:44:06.280849Z",
     "shell.execute_reply": "2020-12-20T13:44:06.281329Z"
    },
    "papermill": {
     "duration": 0.038661,
     "end_time": "2020-12-20T13:44:06.281544",
     "exception": false,
     "start_time": "2020-12-20T13:44:06.242883",
     "status": "completed"
    },
    "tags": []
   },
   "outputs": [
    {
     "data": {
      "text/html": [
       "<div>\n",
       "<style scoped>\n",
       "    .dataframe tbody tr th:only-of-type {\n",
       "        vertical-align: middle;\n",
       "    }\n",
       "\n",
       "    .dataframe tbody tr th {\n",
       "        vertical-align: top;\n",
       "    }\n",
       "\n",
       "    .dataframe thead th {\n",
       "        text-align: right;\n",
       "    }\n",
       "</style>\n",
       "<table border=\"1\" class=\"dataframe\">\n",
       "  <thead>\n",
       "    <tr style=\"text-align: right;\">\n",
       "      <th></th>\n",
       "      <th>YearsExperience</th>\n",
       "      <th>Salary</th>\n",
       "    </tr>\n",
       "  </thead>\n",
       "  <tbody>\n",
       "    <tr>\n",
       "      <th>0</th>\n",
       "      <td>1.1</td>\n",
       "      <td>39343.0</td>\n",
       "    </tr>\n",
       "    <tr>\n",
       "      <th>1</th>\n",
       "      <td>1.3</td>\n",
       "      <td>46205.0</td>\n",
       "    </tr>\n",
       "    <tr>\n",
       "      <th>2</th>\n",
       "      <td>1.5</td>\n",
       "      <td>37731.0</td>\n",
       "    </tr>\n",
       "    <tr>\n",
       "      <th>3</th>\n",
       "      <td>2.0</td>\n",
       "      <td>43525.0</td>\n",
       "    </tr>\n",
       "    <tr>\n",
       "      <th>4</th>\n",
       "      <td>2.2</td>\n",
       "      <td>39891.0</td>\n",
       "    </tr>\n",
       "  </tbody>\n",
       "</table>\n",
       "</div>"
      ],
      "text/plain": [
       "   YearsExperience   Salary\n",
       "0              1.1  39343.0\n",
       "1              1.3  46205.0\n",
       "2              1.5  37731.0\n",
       "3              2.0  43525.0\n",
       "4              2.2  39891.0"
      ]
     },
     "execution_count": 3,
     "metadata": {},
     "output_type": "execute_result"
    }
   ],
   "source": [
    "# Sample data\n",
    "dataset.head()"
   ]
  },
  {
   "cell_type": "markdown",
   "metadata": {
    "papermill": {
     "duration": 0.013492,
     "end_time": "2020-12-20T13:44:06.310277",
     "exception": false,
     "start_time": "2020-12-20T13:44:06.296785",
     "status": "completed"
    },
    "tags": []
   },
   "source": [
    "\n",
    "### Data Preprocessing:\n",
    "We will look for duplicate records and drop them. We can see below there are no duplicate records in the data.\n",
    "We wil find any null values in the data and drop them if any found. There are no null values found in the dataset."
   ]
  },
  {
   "cell_type": "code",
   "execution_count": 4,
   "metadata": {
    "execution": {
     "iopub.execute_input": "2020-12-20T13:44:06.345220Z",
     "iopub.status.busy": "2020-12-20T13:44:06.344490Z",
     "iopub.status.idle": "2020-12-20T13:44:06.347633Z",
     "shell.execute_reply": "2020-12-20T13:44:06.348279Z"
    },
    "papermill": {
     "duration": 0.02419,
     "end_time": "2020-12-20T13:44:06.348419",
     "exception": false,
     "start_time": "2020-12-20T13:44:06.324229",
     "status": "completed"
    },
    "tags": []
   },
   "outputs": [
    {
     "data": {
      "text/plain": [
       "YearsExperience    float64\n",
       "Salary             float64\n",
       "dtype: object"
      ]
     },
     "execution_count": 4,
     "metadata": {},
     "output_type": "execute_result"
    }
   ],
   "source": [
    "# Data type of each feature \n",
    "dataset.dtypes"
   ]
  },
  {
   "cell_type": "code",
   "execution_count": 5,
   "metadata": {
    "execution": {
     "iopub.execute_input": "2020-12-20T13:44:06.380869Z",
     "iopub.status.busy": "2020-12-20T13:44:06.380194Z",
     "iopub.status.idle": "2020-12-20T13:44:06.391560Z",
     "shell.execute_reply": "2020-12-20T13:44:06.390414Z"
    },
    "papermill": {
     "duration": 0.028776,
     "end_time": "2020-12-20T13:44:06.391764",
     "exception": false,
     "start_time": "2020-12-20T13:44:06.362988",
     "status": "completed"
    },
    "tags": []
   },
   "outputs": [
    {
     "name": "stdout",
     "output_type": "stream",
     "text": [
      "Data shape after dropping duplicates (30, 2)\n"
     ]
    }
   ],
   "source": [
    "#we will find and remove the duplicate entries in the datset\n",
    "dataset.drop_duplicates(inplace = True)\n",
    "print (\"Data shape after dropping duplicates {}\".format(dataset.shape))"
   ]
  },
  {
   "cell_type": "code",
   "execution_count": 6,
   "metadata": {
    "execution": {
     "iopub.execute_input": "2020-12-20T13:44:06.429805Z",
     "iopub.status.busy": "2020-12-20T13:44:06.428762Z",
     "iopub.status.idle": "2020-12-20T13:44:06.434318Z",
     "shell.execute_reply": "2020-12-20T13:44:06.434837Z"
    },
    "papermill": {
     "duration": 0.027555,
     "end_time": "2020-12-20T13:44:06.435052",
     "exception": false,
     "start_time": "2020-12-20T13:44:06.407497",
     "status": "completed"
    },
    "tags": []
   },
   "outputs": [
    {
     "name": "stdout",
     "output_type": "stream",
     "text": [
      "                 0\n",
      "YearsExperience  0\n",
      "Salary           0\n"
     ]
    }
   ],
   "source": [
    "#Checking for any null entries column wise, We can see that there are 0 null entries\n",
    "print (pd.DataFrame(dataset.isnull().sum()))"
   ]
  },
  {
   "cell_type": "code",
   "execution_count": 7,
   "metadata": {
    "execution": {
     "iopub.execute_input": "2020-12-20T13:44:06.474966Z",
     "iopub.status.busy": "2020-12-20T13:44:06.474084Z",
     "iopub.status.idle": "2020-12-20T13:44:06.477406Z",
     "shell.execute_reply": "2020-12-20T13:44:06.478068Z"
    },
    "papermill": {
     "duration": 0.027881,
     "end_time": "2020-12-20T13:44:06.478219",
     "exception": false,
     "start_time": "2020-12-20T13:44:06.450338",
     "status": "completed"
    },
    "tags": []
   },
   "outputs": [
    {
     "name": "stdout",
     "output_type": "stream",
     "text": [
      "[ 1.1  1.3  1.5  2.   2.2  2.9  3.   3.2  3.2  3.7  3.9  4.   4.   4.1\n",
      "  4.5  4.9  5.1  5.3  5.9  6.   6.8  7.1  7.9  8.2  8.7  9.   9.5  9.6\n",
      " 10.3 10.5]\n",
      "(30,)\n",
      "\n",
      "\n",
      "[ 39343.  46205.  37731.  43525.  39891.  56642.  60150.  54445.  64445.\n",
      "  57189.  63218.  55794.  56957.  57081.  61111.  67938.  66029.  83088.\n",
      "  81363.  93940.  91738.  98273. 101302. 113812. 109431. 105582. 116969.\n",
      " 112635. 122391. 121872.]\n",
      "(30,)\n"
     ]
    }
   ],
   "source": [
    "# Feature data\n",
    "x=dataset['YearsExperience'].values\n",
    "y=dataset['Salary'].values\n",
    "print(x)\n",
    "print(x.shape)\n",
    "print(\"\\n\")\n",
    "print(y)\n",
    "print(y.shape)"
   ]
  },
  {
   "cell_type": "markdown",
   "metadata": {
    "papermill": {
     "duration": 0.015514,
     "end_time": "2020-12-20T13:44:06.510449",
     "exception": false,
     "start_time": "2020-12-20T13:44:06.494935",
     "status": "completed"
    },
    "tags": []
   },
   "source": [
    "### Splitting The Data into Train and Test:\n",
    "\n",
    "The training data is used to make sure the machine recognizes patterns in the data.\n",
    "\n",
    "The test data is used to see how well the machine can predict new answers based on its training."
   ]
  },
  {
   "cell_type": "code",
   "execution_count": 8,
   "metadata": {
    "execution": {
     "iopub.execute_input": "2020-12-20T13:44:06.551059Z",
     "iopub.status.busy": "2020-12-20T13:44:06.550091Z",
     "iopub.status.idle": "2020-12-20T13:44:06.554900Z",
     "shell.execute_reply": "2020-12-20T13:44:06.554003Z"
    },
    "papermill": {
     "duration": 0.028762,
     "end_time": "2020-12-20T13:44:06.555063",
     "exception": false,
     "start_time": "2020-12-20T13:44:06.526301",
     "status": "completed"
    },
    "tags": []
   },
   "outputs": [
    {
     "name": "stdout",
     "output_type": "stream",
     "text": [
      "X_train shape (22,), y_train shape (22,)\n",
      "\n",
      "\n",
      "X_test shape (8,), y_test shape (8,)\n"
     ]
    }
   ],
   "source": [
    "#splitting the data into Training set and Test set \n",
    "x_train,x_test,y_train,y_test=train_test_split(x,y,test_size=0.25,random_state=0)\n",
    "print(\"X_train shape {}, y_train shape {}\".format(x_train.shape, y_train.shape))\n",
    "print(\"\\n\")\n",
    "print(\"X_test shape {}, y_test shape {}\".format(x_test.shape, y_test.shape))\n"
   ]
  },
  {
   "cell_type": "markdown",
   "metadata": {
    "papermill": {
     "duration": 0.015957,
     "end_time": "2020-12-20T13:44:06.588679",
     "exception": false,
     "start_time": "2020-12-20T13:44:06.572722",
     "status": "completed"
    },
    "tags": []
   },
   "source": [
    "### Linear Regression Introduction:\n",
    "Linear regression attempts to model the relationship between two variables by fitting a linear equation to observed data. One variable is considered to be an explanatory variable, and the other is considered to be a dependent variable.\n"
   ]
  },
  {
   "cell_type": "code",
   "execution_count": 9,
   "metadata": {
    "execution": {
     "iopub.execute_input": "2020-12-20T13:44:06.626761Z",
     "iopub.status.busy": "2020-12-20T13:44:06.625573Z",
     "iopub.status.idle": "2020-12-20T13:44:06.702910Z",
     "shell.execute_reply": "2020-12-20T13:44:06.702098Z"
    },
    "papermill": {
     "duration": 0.097463,
     "end_time": "2020-12-20T13:44:06.703037",
     "exception": false,
     "start_time": "2020-12-20T13:44:06.605574",
     "status": "completed"
    },
    "tags": []
   },
   "outputs": [
    {
     "data": {
      "text/plain": [
       "LinearRegression()"
      ]
     },
     "execution_count": 9,
     "metadata": {},
     "output_type": "execute_result"
    }
   ],
   "source": [
    "#Fitting Simple Linear Regression to Training set\n",
    "regressor=LinearRegression()\n",
    "regressor.fit(x_train.reshape(-1,1),y_train)"
   ]
  },
  {
   "cell_type": "code",
   "execution_count": 10,
   "metadata": {
    "execution": {
     "iopub.execute_input": "2020-12-20T13:44:06.744714Z",
     "iopub.status.busy": "2020-12-20T13:44:06.743745Z",
     "iopub.status.idle": "2020-12-20T13:44:06.747310Z",
     "shell.execute_reply": "2020-12-20T13:44:06.747848Z"
    },
    "papermill": {
     "duration": 0.027038,
     "end_time": "2020-12-20T13:44:06.747991",
     "exception": false,
     "start_time": "2020-12-20T13:44:06.720953",
     "status": "completed"
    },
    "tags": []
   },
   "outputs": [
    {
     "name": "stdout",
     "output_type": "stream",
     "text": [
      "[ 41056.25705466 123597.70938378  65443.50433372  63567.56223533\n",
      " 116093.94099022 108590.17259667 117031.91203942  64505.53328452]\n"
     ]
    }
   ],
   "source": [
    "#Predicting the Test set results\n",
    "y_pred=regressor.predict(x_test.reshape(-1,1))\n",
    "print(y_pred)"
   ]
  },
  {
   "cell_type": "markdown",
   "metadata": {
    "papermill": {
     "duration": 0.018309,
     "end_time": "2020-12-20T13:44:06.784054",
     "exception": false,
     "start_time": "2020-12-20T13:44:06.765745",
     "status": "completed"
    },
    "tags": []
   },
   "source": [
    "### Results Analysis:\n",
    "Based on the above analysis we visualize the Training set results and Test set results."
   ]
  },
  {
   "cell_type": "code",
   "execution_count": 11,
   "metadata": {
    "execution": {
     "iopub.execute_input": "2020-12-20T13:44:06.826924Z",
     "iopub.status.busy": "2020-12-20T13:44:06.826151Z",
     "iopub.status.idle": "2020-12-20T13:44:07.019442Z",
     "shell.execute_reply": "2020-12-20T13:44:07.020128Z"
    },
    "papermill": {
     "duration": 0.218658,
     "end_time": "2020-12-20T13:44:07.020298",
     "exception": false,
     "start_time": "2020-12-20T13:44:06.801640",
     "status": "completed"
    },
    "tags": []
   },
   "outputs": [
    {
     "data": {
      "image/png": "[encoded data removed]",
      "text/plain": [
       "<Figure size 432x288 with 1 Axes>"
      ]
     },
     "metadata": {
      "needs_background": "light"
     },
     "output_type": "display_data"
    }
   ],
   "source": [
    "#visualising the traing set results\n",
    "plt.scatter(x_train,y_train,c=\"red\",lw=0.5)\n",
    "plt.plot(x_train,regressor.predict(x_train.reshape(-1,1)),c=\"blue\",lw=0.5)\n",
    "plt.title(\"Salary Vs Experience (Training set)\")\n",
    "plt.xlabel(\"Years of Experience\")\n",
    "plt.ylabel(\"Salary\")\n",
    "plt.show()"
   ]
  },
  {
   "cell_type": "code",
   "execution_count": 12,
   "metadata": {
    "execution": {
     "iopub.execute_input": "2020-12-20T13:44:07.070100Z",
     "iopub.status.busy": "2020-12-20T13:44:07.064596Z",
     "iopub.status.idle": "2020-12-20T13:44:07.209187Z",
     "shell.execute_reply": "2020-12-20T13:44:07.208587Z"
    },
    "papermill": {
     "duration": 0.17062,
     "end_time": "2020-12-20T13:44:07.209296",
     "exception": false,
     "start_time": "2020-12-20T13:44:07.038676",
     "status": "completed"
    },
    "tags": []
   },
   "outputs": [
    {
     "data": {
      "image/png": "[encoded data removed]",
      "text/plain": [
       "<Figure size 432x288 with 1 Axes>"
      ]
     },
     "metadata": {
      "needs_background": "light"
     },
     "output_type": "display_data"
    }
   ],
   "source": [
    "#visualising the test set results\n",
    "plt.scatter(x_test,y_test,c=\"red\",lw=0.5)\n",
    "plt.plot(x_test,regressor.predict(x_test.reshape(-1,1)),c=\"blue\",lw=0.5)\n",
    "plt.title(\"Salary Vs Experience (Test set)\")\n",
    "plt.xlabel(\"Years of Experience\")\n",
    "plt.ylabel(\"Salary\")\n",
    "plt.show()"
   ]
  },
  {
   "cell_type": "markdown",
   "metadata": {
    "papermill": {
     "duration": 0.019437,
     "end_time": "2020-12-20T13:44:07.249086",
     "exception": false,
     "start_time": "2020-12-20T13:44:07.229649",
     "status": "completed"
    },
    "tags": []
   },
   "source": [
    "* We use Root Mean squared error as regression loss and we try to minimze it."
   ]
  },
  {
   "cell_type": "code",
   "execution_count": 13,
   "metadata": {
    "execution": {
     "iopub.execute_input": "2020-12-20T13:44:07.318053Z",
     "iopub.status.busy": "2020-12-20T13:44:07.316947Z",
     "iopub.status.idle": "2020-12-20T13:44:07.324642Z",
     "shell.execute_reply": "2020-12-20T13:44:07.323702Z"
    },
    "papermill": {
     "duration": 0.056621,
     "end_time": "2020-12-20T13:44:07.324830",
     "exception": false,
     "start_time": "2020-12-20T13:44:07.268209",
     "status": "completed"
    },
    "tags": []
   },
   "outputs": [
    {
     "data": {
      "text/plain": [
       "22407940.143340684"
      ]
     },
     "execution_count": 13,
     "metadata": {},
     "output_type": "execute_result"
    }
   ],
   "source": [
    "rmse = mean_squared_error(y_test, y_pred, squared=True)\n",
    "rmse"
   ]
  },
  {
   "cell_type": "markdown",
   "metadata": {
    "papermill": {
     "duration": 0.033131,
     "end_time": "2020-12-20T13:44:07.391867",
     "exception": false,
     "start_time": "2020-12-20T13:44:07.358736",
     "status": "completed"
    },
    "tags": []
   },
   "source": [
    "Conclusion:\n",
    "\n",
    "From the above results we made a simple linear regression model that is perfectly able to predict the observations"
   ]
  }
 ],
 "metadata": {
  "kernelspec": {
   "display_name": "Python 3",
   "language": "python",
   "name": "python3"
  },
  "language_info": {
   "codemirror_mode": {
    "name": "ipython",
    "version": 3
   },
   "file_extension": ".py",
   "mimetype": "text/x-python",
   "name": "python",
   "nbconvert_exporter": "python",
   "pygments_lexer": "ipython3",
   "version": "3.7.6"
  },
  "papermill": {
   "duration": 7.800077,
   "end_time": "2020-12-20T13:44:07.527696",
   "environment_variables": {},
   "exception": null,
   "input_path": "__notebook__.ipynb",
   "output_path": "__notebook__.ipynb",
   "parameters": {},
   "start_time": "2020-12-20T13:43:59.727619",
   "version": "2.1.0"
  }
 },
 "nbformat": 4,
 "nbformat_minor": 4
}
